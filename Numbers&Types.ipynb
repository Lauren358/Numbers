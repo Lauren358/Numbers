{
 "cells": [
  {
   "cell_type": "code",
   "execution_count": 8,
   "id": "dd8dbfe2-bef9-483a-b25c-eb1b982cacbb",
   "metadata": {},
   "outputs": [
    {
     "name": "stdout",
     "output_type": "stream",
     "text": [
      "Seconds per hour: 3600\n",
      "Seconds per day: 86400\n",
      "24.0\n",
      "24\n"
     ]
    }
   ],
   "source": [
    "seconds_per_hour=60*60\n",
    "print(\"Seconds per hour:\", seconds_per_hour)\n",
    "seconds_per_day= seconds_per_hour*24\n",
    "print(\"Seconds per day:\",seconds_per_day)\n",
    "print (seconds_per_day/seconds_per_hour)\n",
    "print (seconds_per_day//seconds_per_hour)\n",
    "#The number does match with the floating point divison resulting in the hours in a day"
   ]
  }
 ],
 "metadata": {
  "kernelspec": {
   "display_name": "Python 3 (ipykernel)",
   "language": "python",
   "name": "python3"
  },
  "language_info": {
   "codemirror_mode": {
    "name": "ipython",
    "version": 3
   },
   "file_extension": ".py",
   "mimetype": "text/x-python",
   "name": "python",
   "nbconvert_exporter": "python",
   "pygments_lexer": "ipython3",
   "version": "3.12.4"
  }
 },
 "nbformat": 4,
 "nbformat_minor": 5
}
