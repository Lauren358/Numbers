{
 "cells": [
  {
   "cell_type": "code",
   "execution_count": 10,
   "id": "0695fece-e53a-4c24-ab0c-5bda6acf8541",
   "metadata": {},
   "outputs": [
    {
     "name": "stdout",
     "output_type": "stream",
     "text": [
      "Seconds per hour: 3600\n",
      "Seconds per day: 86400\n",
      "24.0\n",
      "24\n"
     ]
    }
   ],
   "source": [
    "the floating-point value from the previous question, aside from the final .0?\"\"\"\n",
    "\n",
    "secInMin= 60\n",
    "minInHr= 60\n",
    "seconds_per_hour= secInMin*minInHr\n",
    "print(\"Seconds per hour:\",seconds_per_hour)\n",
    "seconds_per_day= seconds_per_hour*24\n",
    "print(\"Seconds per day:\", seconds_per_day)\n",
    "\n",
    "print (seconds_per_day/seconds_per_hour)\n",
    "print(seconds_per_day//seconds_per_hour)\n",
    "#The number does agree with the floating point division resulting in the hours in a day"
   ]
  },
  {
   "cell_type": "code",
   "execution_count": null,
   "id": "0fe35ac4-7736-4f09-89dc-bd3aba512599",
   "metadata": {},
   "outputs": [],
   "source": []
  }
 ],
 "metadata": {
  "kernelspec": {
   "display_name": "Python 3 (ipykernel)",
   "language": "python",
   "name": "python3"
  },
  "language_info": {
   "codemirror_mode": {
    "name": "ipython",
    "version": 3
   },
   "file_extension": ".py",
   "mimetype": "text/x-python",
   "name": "python",
   "nbconvert_exporter": "python",
   "pygments_lexer": "ipython3",
   "version": "3.12.1"
  }
 },
 "nbformat": 4,
 "nbformat_minor": 5
}
